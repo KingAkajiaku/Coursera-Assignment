{
 "cells": [
  {
   "cell_type": "markdown",
   "metadata": {},
   "source": [
    "<center>\n",
    "    <img src=\"https://cf-courses-data.s3.us.cloud-object-storage.appdomain.cloud/IBMDeveloperSkillsNetwork-DS0105EN-SkillsNetwork/labs/Module2/images/SN_web_lightmode.png\" width=\"300\" alt=\"cognitiveclass.ai logo\">\n",
    "</center>\n"
   ]
  },
  {
   "cell_type": "markdown",
   "metadata": {},
   "source": [
    "#### Add your code below following the instructions given in the course\n"
   ]
  },
  {
   "cell_type": "markdown",
   "metadata": {},
   "source": [
    "# MY JUPYTER NOTEBOOK ON IBM WATSON STUDIO"
   ]
  },
  {
   "cell_type": "markdown",
   "metadata": {},
   "source": [
    "## ONYIUKE AFAM RAPHAEL\n"
   ]
  },
  {
   "cell_type": "markdown",
   "metadata": {},
   "source": [
    "ASPIRING DATA SCIENTIST IN HEALTH SECTOR"
   ]
  },
  {
   "cell_type": "markdown",
   "metadata": {},
   "source": [
    "*I am interested in data science because i want to be part of the team in health sector saving human life*"
   ]
  },
  {
   "cell_type": "markdown",
   "metadata": {},
   "source": [
    "### The following code is about data conversation"
   ]
  },
  {
   "cell_type": "code",
   "execution_count": 2,
   "metadata": {},
   "outputs": [
    {
     "name": "stdout",
     "output_type": "stream",
     "text": [
      "12\n"
     ]
    }
   ],
   "source": [
    "num2=int(12.6)\n",
    "print(num2)"
   ]
  },
  {
   "cell_type": "markdown",
   "metadata": {},
   "source": [
    "God is the greatest\n",
    "\n",
    "---\n",
    "Data science is interesting\n",
    "\n",
    "---\n",
    "\n",
    "Believe\n",
    "\n",
    "---\n",
    "\n",
    "BULLETED LIST\n",
    "* python\n",
    "* c++\n",
    "* R\n",
    "\n",
    "NUMBERED LIST\n",
    "1. Lion\n",
    "2. Elephant\n",
    "3. Eagle\n",
    "\n",
    "HYPERLINK\n",
    "__[link_to_stackoverflow](https://stackoverflow.com/)__\n",
    "__[link_to_github](https://github.com/)__\n",
    "__[link_to_w3school](https://www.w3schools.com/)__\n",
    "\n",
    "\n",
    "BLOCKED QUOTES\n",
    "> Walking\n",
    "> sleeping\n",
    "> reading\n",
    "\n",
    "STRIKE-THROUGH\n",
    "~~Failure~~\n",
    "~~Weak~~\n",
    "~~Lazy~~\n",
    "\n",
    "CODE HIGHLIGHTING\n",
    "1+1\n",
    "\n",
    "\n"
   ]
  },
  {
   "cell_type": "code",
   "execution_count": null,
   "metadata": {},
   "outputs": [],
   "source": []
  }
 ],
 "metadata": {
  "kernelspec": {
   "display_name": "Python",
   "language": "python",
   "name": "conda-env-python-py"
  },
  "language_info": {
   "codemirror_mode": {
    "name": "ipython",
    "version": 3
   },
   "file_extension": ".py",
   "mimetype": "text/x-python",
   "name": "python",
   "nbconvert_exporter": "python",
   "pygments_lexer": "ipython3",
   "version": "3.7.12"
  }
 },
 "nbformat": 4,
 "nbformat_minor": 4
}
